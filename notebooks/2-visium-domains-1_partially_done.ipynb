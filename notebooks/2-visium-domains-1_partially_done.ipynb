{
 "cells": [
  {
   "cell_type": "code",
   "execution_count": null,
   "id": "4bd57928-4055-49b8-93d0-68d012131afa",
   "metadata": {},
   "outputs": [],
   "source": [
    "import os\n",
    "import numpy as np\n",
    "import pandas as pd\n",
    "import scanpy as sc\n",
    "import matplotlib.pyplot as plt\n",
    "import seaborn as sns\n",
    "# Set figure parameters\n",
    "sc.set_figure_params(dpi=100, vector_friendly=True) \n",
    "# vector_friendly=True rasterizes large objects (such as dots in a scatterplot as pixels).\n",
    "# More at https://scanpy.readthedocs.io/en/stable/generated/scanpy.set_figure_params.html"
   ]
  },
  {
   "cell_type": "code",
   "execution_count": null,
   "id": "035ac0f0-d9a5-4d7d-8d12-836b268967e7",
   "metadata": {},
   "outputs": [],
   "source": [
    "## read data\n",
    "data = sc.read(\"/home/shared/spatial-workshop-GCB-2025/visium_v1_ustekinumab.h5ad\")"
   ]
  },
  {
   "cell_type": "markdown",
   "id": "b4d06579-8656-40bd-ad7d-09d5eb378ac4",
   "metadata": {},
   "source": [
    "ℹ️ AnnData stores data as a hierarchical array store HDF5. A brief introduction on what is usually stored and how it can be accessed is here: [AnnData](https://jupyterhub.ims.bio/user/robin/lab/tree/epyc/robin/GCB2025/spatial-workshop-GCB-2025/slides/anndata-brief.pdf).\n"
   ]
  },
  {
   "cell_type": "code",
   "execution_count": null,
   "id": "43d2239f-8b65-4292-ba40-c1829481ff15",
   "metadata": {},
   "outputs": [],
   "source": [
    "## Normalize to sum to 10000 to make total RNA content comparable and then log-normalize data\n",
    "\n",
    "data.layers[\"counts\"] = data.X.copy() # store raw counts if needed later\n",
    "sc.pp.normalize_total(data, target_sum=1e4)\n",
    "sc.pp.log1p(data)"
   ]
  },
  {
   "cell_type": "code",
   "execution_count": null,
   "id": "145311d3-1665-4129-8e91-9c751560fffc",
   "metadata": {},
   "outputs": [],
   "source": [
    "## Select highly variable genes\n",
    "\n",
    "sc.pp.highly_variable_genes(data, n_top_genes=2000, batch_key=\"Slide_ID\")\n",
    "# highly variable genes are computed for each batch (batch_key) and then put together by taking Union"
   ]
  },
  {
   "cell_type": "code",
   "execution_count": null,
   "id": "6408e10b-a0dd-45f6-8b7f-625b14b6b176",
   "metadata": {},
   "outputs": [],
   "source": [
    "## Compute principal components\n",
    "\n",
    "sc.tl.pca(data, mask_var=\"highly_variable\") # Uses only highly variable genes to compute PCs"
   ]
  },
  {
   "cell_type": "code",
   "execution_count": null,
   "id": "5c7d5515-aa37-41cd-8959-bf2d624af2c0",
   "metadata": {},
   "outputs": [],
   "source": [
    "## Produce batch effect corrected PC embeddings\n",
    "\n",
    "# We'll use Harmony for batch effect removal. It removes batch effects in principal components.\n",
    "# Corrected principal components are saved at .obsm[\"X_pca_harmony\"]\n",
    "\n",
    "sc.external.pp.harmony_integrate(data, key=\"Slide_ID\", max_iter_harmony=50)\n",
    "# This uses harmonypy package: https://github.com/slowkow/harmonypy. All arguments part of \"harmonypy.run_harmony\" can be passed."
   ]
  },
  {
   "cell_type": "code",
   "execution_count": null,
   "id": "9fd3c337-a8bc-4fae-a1b2-197cc80e287e",
   "metadata": {},
   "outputs": [],
   "source": [
    "## Compute UMAP\n",
    "\n",
    "sc.pp.neighbors(data, use_rep=\"X_pca_harmony\") # calculates neighborhood graph of spots using corrected PCs. use_rep can be any key in .obsm\n",
    "sc.tl.umap(data)"
   ]
  },
  {
   "cell_type": "code",
   "execution_count": null,
   "id": "b8c6d5bb-b936-412f-87e2-09af7078499a",
   "metadata": {},
   "outputs": [],
   "source": [
    "## Plot UMAP and color by batch\n",
    "sc.pl.umap(data, color=\"Slide_ID\")"
   ]
  },
  {
   "cell_type": "markdown",
   "id": "9ded7835-f805-45e4-a176-7af36f1021db",
   "metadata": {},
   "source": [
    "For evaluation of batch effect removal, several metrics are available in [scib](https://scib.readthedocs.io/en/latest/). Often requires true label. Alternatively, cluster labels can be used as true label and batch key can be used as batch label. In this case, assessment will be about whether cluster labels are mixture of batches and not purely of some batches.\n"
   ]
  },
  {
   "cell_type": "markdown",
   "id": "daaf01fc-7103-459a-bb0c-27f670d5dca6",
   "metadata": {},
   "source": [
    "<u>Optional</u>: Perform clustering with sc.tl.leiden() and evaluate batch correction."
   ]
  },
  {
   "cell_type": "code",
   "execution_count": null,
   "id": "b54d2bd7-faf4-4ed2-b396-eee52ea31f20",
   "metadata": {},
   "outputs": [],
   "source": [
    "## Perform Leien clustering with resolution of 1\n",
    "\n",
    "sc.tl.leiden(data, resolution=1, key_added=\"leiden_1\") \n",
    "# leiden_1 with cluster numbers (as strings: \"0\", \"1\"...) will be available in .obs"
   ]
  },
  {
   "cell_type": "code",
   "execution_count": null,
   "id": "b248aa9f-d4d5-4999-b5db-08d04350fa23",
   "metadata": {},
   "outputs": [],
   "source": [
    "data.obs[\"leiden_1\"].value_counts()"
   ]
  },
  {
   "cell_type": "markdown",
   "id": "6edd9b79-735b-44f8-befa-0f396c3fb2a0",
   "metadata": {},
   "source": [
    "Other general clustering approaches (KMeans, agglomerative clustering and DBSCAN etc.) are availble from [scikit-learn](https://scikit-learn.org/stable/modules/clustering.html)."
   ]
  },
  {
   "cell_type": "code",
   "execution_count": null,
   "id": "327f68db-8d31-402c-bbe0-5eecd92e8ebf",
   "metadata": {},
   "outputs": [],
   "source": [
    "## show clusters on UMAP\n",
    "sc.pl.umap(data, color=\"leiden_1\")"
   ]
  },
  {
   "cell_type": "markdown",
   "id": "9f7036e5-57ae-4c51-a6c1-39e102fde8b7",
   "metadata": {},
   "source": [
    "<u>Questions</u>\n",
    "1. Find optimal resolution for clustering\n",
    "2. Use spatial information for clustering"
   ]
  },
  {
   "cell_type": "markdown",
   "id": "74879f99-20ec-4a6b-8fa3-6480d9d78042",
   "metadata": {},
   "source": [
    "## 1. Selecting resolution for leiden clustering"
   ]
  },
  {
   "cell_type": "markdown",
   "id": "e9c20687-7e15-42eb-a9cb-ab82e98a8518",
   "metadata": {},
   "source": [
    "There is no good/settled answer. An idea would be to use silhouette_score. \n",
    "\n",
    "$$\\text{Silhouette score }= \\frac{(b-a)}{max(a,b)},$$\n",
    "\n",
    "where, $a$: mean intra-cluster distance, $b$: mean inter-cluster distance. Value 1 is the best, indicating, mean inter-cluster distance is very high - meaning clusters are highly distinct. -1 would be mean perfectly overlapping clusters."
   ]
  },
  {
   "cell_type": "code",
   "execution_count": null,
   "id": "1d5dadb4-c267-4432-837c-1891f84d5730",
   "metadata": {},
   "outputs": [],
   "source": [
    "from sklearn.metrics import silhouette_score"
   ]
  },
  {
   "cell_type": "code",
   "execution_count": null,
   "id": "9ac1b323-b11a-4c1b-9885-c3648e392edd",
   "metadata": {},
   "outputs": [],
   "source": [
    "## choose a range of resolutions to search from\n",
    "\n",
    "resolutions = np.arange(0.1, 2.1, 0.25)\n",
    "# resolutions = np.arange(0.1, 2.1, 0.1) # add more resolutions\n",
    "scores = {} # a dictionary to store scores for each resolution\n",
    "print(f\"searching over resolutions: {resolutions}\")\n",
    "\n",
    "\n",
    "from tqdm import tqdm # notify about progress\n",
    "for res in tqdm(resolutions):\n",
    "    sc.tl.leiden(data, resolution=res, key_added=\"leiden_temp\")\n",
    "    \n",
    "    score = silhouette_score(data.obsm[\"X_pca\"], data.obs[\"leiden_temp\"])\n",
    "    n_clust = len(data.obs[\"leiden_temp\"].unique())\n",
    "\n",
    "    data.obs.pop(\"leiden_temp\") # remove added leiden_temp column\n",
    "    scores[res] = {\n",
    "        \"silhouette\": score,\n",
    "        \"n_clusters\": n_clust\n",
    "    }"
   ]
  },
  {
   "cell_type": "code",
   "execution_count": null,
   "id": "b5743f20-99b4-4a95-ae57-ece96433a21d",
   "metadata": {},
   "outputs": [],
   "source": [
    "scores"
   ]
  },
  {
   "cell_type": "code",
   "execution_count": null,
   "id": "0a100961-0d44-4a3e-87fe-28dcdf748e93",
   "metadata": {},
   "outputs": [],
   "source": [
    "## search between 0.1 and 0.6 again since 0.1 has the maximum silhoutte but number of clusters are 2.\n",
    "resolutions = np.arange(0.1, 0.6, 0.05)\n",
    "# resolutions = np.arange(0.1, 2.1, 0.1) # add more resolutions\n",
    "scores = {} # a dictionary to store scores for each resolution\n",
    "print(f\"searching over resolutions: {resolutions}\")\n",
    "\n",
    "for res in tqdm(resolutions):\n",
    "    sc.tl.leiden(data, resolution=res, key_added=\"leiden_temp\")\n",
    "    \n",
    "    score = silhouette_score(data.obsm[\"X_pca\"], data.obs[\"leiden_temp\"])\n",
    "    n_clust = len(data.obs[\"leiden_temp\"].unique())\n",
    "\n",
    "    data.obs.pop(\"leiden_temp\") # remove added leiden_temp column\n",
    "    scores[res] = {\n",
    "        \"silhouette\": score,\n",
    "        \"n_clusters\": n_clust\n",
    "    }"
   ]
  },
  {
   "cell_type": "code",
   "execution_count": null,
   "id": "25e69fb6-af1c-4358-b1cd-84cc57bae1c6",
   "metadata": {},
   "outputs": [],
   "source": [
    "scores"
   ]
  },
  {
   "cell_type": "code",
   "execution_count": null,
   "id": "047821a7-c34c-4aa6-97f6-449c8342e044",
   "metadata": {},
   "outputs": [],
   "source": [
    "## redo clustering with \"best\" resolution\n",
    "resolution=0.35\n",
    "sc.tl.leiden(data, resolution=resolution, key_added=\"cluster\") "
   ]
  },
  {
   "cell_type": "code",
   "execution_count": null,
   "id": "2af12ee5-da15-4bdb-b6e3-bc47f394b074",
   "metadata": {},
   "outputs": [],
   "source": [
    "data.obs[\"cluster\"].value_counts()"
   ]
  },
  {
   "cell_type": "code",
   "execution_count": null,
   "id": "9c39b037-ac5e-40a4-8db3-e3b417a137dd",
   "metadata": {},
   "outputs": [],
   "source": [
    "sc.pl.umap(data, color=\"cluster\")"
   ]
  },
  {
   "cell_type": "code",
   "execution_count": null,
   "id": "7702d917-7fab-41d2-ba64-7b2c8c7fd573",
   "metadata": {},
   "outputs": [],
   "source": [
    "sc.pl.umap(data, color=\"cluster\", legend_loc=\"on data\")\n"
   ]
  },
  {
   "cell_type": "code",
   "execution_count": null,
   "id": "caa861e9-8d91-4b8f-a3bd-4ba5fe96131e",
   "metadata": {},
   "outputs": [],
   "source": [
    "## Scale counts: (X-mean)/st-dev\n",
    "data.layers[\"scaled\"] = sc.pp.scale(data, copy=True, max_value=10).X"
   ]
  },
  {
   "cell_type": "code",
   "execution_count": null,
   "id": "7228ecb2-37d2-4849-958d-76f790c047d5",
   "metadata": {},
   "outputs": [],
   "source": [
    "## compute marker genes\n",
    "\n",
    "sc.tl.rank_genes_groups(data, groupby=\"cluster\", method=\"wilcoxon\") # computes one vs all\n",
    "sc.pl.rank_genes_groups_dotplot(data, groupby=\"cluster\", layer=\"scaled\",\n",
    "                               vmax=2, vmin=-1, cmap=\"RdBu_r\") # plots from scaled layer between -2 and 2.\n",
    "# Scaling is better for visualization of genes at different experession levels"
   ]
  },
  {
   "cell_type": "code",
   "execution_count": null,
   "id": "b8d80cf9-b8e7-4716-bd2b-32bee4efd8f4",
   "metadata": {},
   "outputs": [],
   "source": [
    "## cluster 6 likely denotes glomerular and cluster 7 likley a mixture of glomerular and other compartments.\n",
    "## Visualize these two clusters\n",
    "\n",
    "sc.set_figure_params(dpi=200) #  for better resolution\n",
    "for slide in data.obs[\"Slide_ID\"].unique()[0:5]:\n",
    "    sub = data[data.obs[\"Slide_ID\"]==slide]\n",
    "    ordered_clusters = sub.obs[\"cluster\"].cat.categories \n",
    "    ## store colors to plot\n",
    "    colors = []\n",
    "    for cluster in ordered_clusters:\n",
    "        if cluster not in [\"6\", \"7\"]:\n",
    "            colors.append(\"none\") # no color\n",
    "        elif cluster==\"6\":\n",
    "            colors.append(\"black\")\n",
    "        else:\n",
    "            colors.append(\"yellow\")\n",
    "\n",
    "    sub.uns[\"cluster_colors\"] = colors\n",
    "\n",
    "    sc.pl.spatial(sub, library_id=slide, color=[\"cluster\", None], title=[\"Cluster\", slide])\n",
    "sc.set_figure_params(dpi=100) # reset to 100"
   ]
  },
  {
   "cell_type": "markdown",
   "id": "fa935225-41a4-4d19-842d-555f272d6356",
   "metadata": {},
   "source": [
    "Cluster 6 visiually colocalizes in glomeruli. 7 is mixed. There is also a lot of noise."
   ]
  },
  {
   "cell_type": "markdown",
   "id": "28a78b54-127c-45a8-9b90-8ee3a42c99b4",
   "metadata": {},
   "source": [
    "In practice, however, deciding resolution for clustring depends a lot on regions of interest (ROIs). For example, in [https://www.nature.com/articles/s41467-024-52525-w](https://www.nature.com/articles/s41467-024-52525-w), we were interested in glomeruli and subdomains of glomeruli as this is glomerulonephritis. Therefore, we opted for a high resolution (1.2) and then merged closely related clusters. This approach usually works well!"
   ]
  },
  {
   "cell_type": "code",
   "execution_count": null,
   "id": "6a343619-9cd3-4b84-9150-ff9543bbcae2",
   "metadata": {},
   "outputs": [],
   "source": [
    "resolution = 1.2\n",
    "sc.tl.leiden(data, resolution=resolution, key_added=f\"leiden_{resolution}\")\n",
    "sc.pl.umap(data, color=f\"leiden_{resolution}\")\n",
    "sc.pl.umap(data, color=f\"leiden_{resolution}\", legend_loc=\"on data\")\n",
    "\n",
    "print(\"Cluster markers\")\n",
    "sc.tl.rank_genes_groups(data, groupby=f\"leiden_{resolution}\", method=\"wilcoxon\") # computes one vs all\n",
    "sc.pl.rank_genes_groups_dotplot(data, groupby=f\"leiden_{resolution}\", layer=\"scaled\",\n",
    "                               vmin=-2, vmax=2, cmap=\"RdBu_r\")"
   ]
  },
  {
   "cell_type": "markdown",
   "id": "f5c80b15-361c-49d4-a933-90a3aedcfe57",
   "metadata": {},
   "source": [
    "Clusters 13 and 10 show presence of glomerular markers and cluster 13 shows a mixture of glomerular and immune cell-related markers."
   ]
  },
  {
   "cell_type": "code",
   "execution_count": null,
   "id": "7ffe7c74-c77a-4625-8106-5b4e6beaa593",
   "metadata": {
    "scrolled": true
   },
   "outputs": [],
   "source": [
    "## Visualize these two clusters\n",
    "\n",
    "sc.set_figure_params(dpi=200) #  for better resolution\n",
    "for slide in data.obs[\"Slide_ID\"].unique()[0:5]:\n",
    "    sub = data[data.obs[\"Slide_ID\"]==slide]\n",
    "    ordered_clusters = sub.obs[f\"leiden_{resolution}\"].cat.categories \n",
    "    ## store colors to plot\n",
    "    colors = []\n",
    "    for cluster in ordered_clusters:\n",
    "        if cluster not in [\"13\", \"10\"]:\n",
    "            colors.append(\"none\") # no color\n",
    "        elif cluster==\"10\":\n",
    "            colors.append(\"black\")\n",
    "        else:\n",
    "            colors.append(\"yellow\")\n",
    "\n",
    "    sub.uns[f\"leiden_{resolution}_colors\"] = colors\n",
    "\n",
    "    sc.pl.spatial(sub, library_id=slide, color=[f\"leiden_{resolution}\", None], title=[f\"leiden_{resolution}\", slide])\n",
    "sc.set_figure_params(dpi=100) # reset to 100"
   ]
  },
  {
   "cell_type": "markdown",
   "id": "c4f11c0c-2b8f-4186-8426-639f2378abba",
   "metadata": {},
   "source": [
    "Annoatations from the manuscript are available at /home/shared/spatial-workshop-GCB-2025/visium_v1_compartments_gex.csv"
   ]
  },
  {
   "cell_type": "markdown",
   "id": "6e641b3e-8e3e-4b37-81bf-01ee2761d3c3",
   "metadata": {},
   "source": [
    "<u>Optional<u/>\n",
    "\n",
    "1. A dictionary of kindey cell type marker genes is available here: /home/shared/spatial-workshop-GCB-2025/kidney_markers.json.  \n",
    "Based on these lists, annotate above clusters. Is it possible to annotate all cleanly?"
   ]
  },
  {
   "cell_type": "code",
   "execution_count": null,
   "id": "af8162e9-7788-4b45-80a1-dda7b6a816b7",
   "metadata": {},
   "outputs": [],
   "source": [
    "## save processed anndata object with clustering info\n",
    "\n",
    "data.write(\"visium_v1_processed.h5ad\")"
   ]
  },
  {
   "cell_type": "markdown",
   "id": "28388097-b1de-44a0-b570-7518489abed2",
   "metadata": {},
   "source": [
    "## 2. Using spatial Information: \n",
    "\n",
    "**2.1 SpatialLeiden**\n",
    "\n",
    "An alternative of Leiden clustering is SpatialLeiden: [Paper](https://genomebiology.biomedcentral.com/articles/10.1186/s13059-025-03489-7), [Code](https://github.com/HiDiHlabs/SpatialLeiden), [Usage](https://spatialleiden.readthedocs.io/stable/usage.html). It integrates several spatial information at various steps of leiden clustering. Does using it improve clustering and homogeneity of markers?"
   ]
  },
  {
   "cell_type": "code",
   "execution_count": null,
   "id": "e1d594c6-f37b-4eb9-9324-2ed73ccf8330",
   "metadata": {},
   "outputs": [],
   "source": [
    "import squidpy as sq\n",
    "import spatialleiden as sl"
   ]
  },
  {
   "cell_type": "markdown",
   "id": "5d184e84-576c-42fc-b6c0-c61ec2ec37ff",
   "metadata": {},
   "source": [
    "ℹ️ SpatialLeiden has two important hyperparameters:  \n",
    "1. resolution: resolution for latent space (of gene expression) and spatial layer (coordinates)\n",
    "2. layer_ratio: ratio of weighting if the latent space and spatial layers.  A higher ratio will increase relevance of the spatial neighbors and lead to more spatially homogeneous clusters\n",
    "\n",
    "Also, since spot-coordinates are used for clustering and each slide has its own frame of reference, the current implementation is not useful for multi-slide dataset."
   ]
  },
  {
   "cell_type": "code",
   "execution_count": null,
   "id": "831d9a60-af98-45be-8e62-40748d63c0f3",
   "metadata": {},
   "outputs": [],
   "source": [
    "## Select one slide\n",
    "sub = data[data.obs[\"Slide_ID\"]==\"V4_B\"]"
   ]
  },
  {
   "cell_type": "code",
   "execution_count": null,
   "id": "29df781d-9e37-40d9-855a-49a7b460c13f",
   "metadata": {},
   "outputs": [],
   "source": [
    "sq.gr.spatial_neighbors(sub, coord_type=\"generic\", n_neighs=10)\n",
    "\n",
    "resolution, layer_ratio = 1, 1.8\n",
    "sl.spatialleiden(sub, resolution=resolution, layer_ratio=layer_ratio, \n",
    "                 directed=(False, True), key_added=f\"spatialleiden_{resolution}_{layer_ratio}\")"
   ]
  },
  {
   "cell_type": "markdown",
   "id": "595ff2d0-bb35-4fc1-b662-f7d560e6743d",
   "metadata": {},
   "source": [
    "<u>Tasks</u>\n",
    "\n",
    "1. SpatialLeiden also provides a nice way to select \"best\" resolution and layer_ratio. However, this requires information on the number of clusters. Run SpatialLeiden with n_clusters being the number of cluster obtained with Leiden. Check [Usage]() for script.\n",
    "\n",
    "2. How does SpatialLeiden clustering compare with Leiden? For this, redoing Leiden clustering for this subset of data (object \"sub\") is necessary. Does it lead to homogeneous distribution of marker expression? How is the spatial distribution different?"
   ]
  },
  {
   "cell_type": "markdown",
   "id": "9a670c7d-17b6-4711-92c0-736610377cc7",
   "metadata": {},
   "source": [
    "**2.2 Spatial domain identification developed specifically for spatial transcriptomics**\n",
    "\n",
    "Several more domain-specific spatial domain identification algorithms exist that work with Visium data. Carry on to notebok number 3 (3-visium-domains-2.ipynb or 3-visium-domains-2_complete.ipynb)"
   ]
  }
 ],
 "metadata": {
  "kernelspec": {
   "display_name": "xenium_cgn_1",
   "language": "python",
   "name": "xenium_cgn_1"
  },
  "language_info": {
   "codemirror_mode": {
    "name": "ipython",
    "version": 3
   },
   "file_extension": ".py",
   "mimetype": "text/x-python",
   "name": "python",
   "nbconvert_exporter": "python",
   "pygments_lexer": "ipython3",
   "version": "3.11.6"
  }
 },
 "nbformat": 4,
 "nbformat_minor": 5
}
