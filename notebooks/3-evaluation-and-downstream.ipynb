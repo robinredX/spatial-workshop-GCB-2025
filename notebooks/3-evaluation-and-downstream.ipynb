{
 "cells": [
  {
   "cell_type": "code",
   "execution_count": 1,
   "id": "3c94e61a-59de-40d7-8383-f39308f35eef",
   "metadata": {},
   "outputs": [],
   "source": [
    "import os\n",
    "import numpy as np\n",
    "import pandas as pd\n",
    "import scanpy as sc\n",
    "import matplotlib.pyplot as plt\n",
    "import seaborn as sns\n",
    "# Set figure parameters\n",
    "sc.set_figure_params(dpi=100, vector_friendly=True)\n",
    "sns.set(style=\"ticks\")\n",
    "# vector_friendly=True rasterizes large objects (such as dots in a scatterplot as pixels).\n",
    "# More at https://scanpy.readthedocs.io/en/stable/generated/scanpy.set_figure_params.html"
   ]
  },
  {
   "cell_type": "markdown",
   "id": "d529a1e0-6e65-4a24-80ca-27c8d2960282",
   "metadata": {},
   "source": [
    "<u>Tasks</u>\n",
    "\n",
    "1. Transfer glomeruli annotations made on H&E images to spots.\n",
    "Test with Leiden and MENDER clustering which one performs better, i.e. glomeruli should be clustered together. \n",
    "\n",
    "2. ANCA-GN can be divided into two subgroups: MPO and PR3. The label for these groups for each spot are available at /home/shared/spatial-workshop-GCB-2025/anca_groups.csv. Are there differences between domain abundance between these groups? Are there molecular differences within the same domain between these groups? You can use any type of analysis you like, *e.g.* differential gene expression, geneset enrichment, cell type deconvolution, cell-cell interaction etc."
   ]
  },
  {
   "cell_type": "markdown",
   "id": "6e53b1be-907a-454a-9c38-faa3cbf89975",
   "metadata": {},
   "source": [
    "For task 1:\n",
    "\n",
    "These glomerular annotations are at /home/shared/spatial-workshop-GCB-2025/visium_v1_glom_annotations  \n",
    "Each subfolder corrsponds to one slide and contains one or more CSVs: normal.csv and/or crescent.csv. Each CSV contains glom annotations:  \n",
    "Columns definitions of each CSV file:  \n",
    "1. index: unique glom IDs\n",
    "2. shape-type: polygon\n",
    "3. vertex-index: Index of each point connecting polygon\n",
    "4. axis-0: corresponds to y-coordinates of .obsm[\"spatial\"]\n",
    "5. axis-1: corresponds to y-coordinates of .obsm[\"spatial\"].\n",
    "\n",
    "The annotations are made using [Napari](https://napari.org). \n",
    "\n",
    "Note: The annotations were made on high-resolution (higher than hires) H&E images. The sizes of these TIFF images are at a multiple scale of hires images and can be found at /home/shared/spatial-workshop-GCB-2025/image_sizes.pkl with keys being Slide IDs and value being the shape 0 of the high-resolution image.\n",
    "If needed, the code to transfer the annotations can be found at: /home/shared/spatial-workshop-GCB-2025/integrate_imageAnnots_v2.ipynb\n"
   ]
  }
 ],
 "metadata": {
  "kernelspec": {
   "display_name": "xenium_cgn_1",
   "language": "python",
   "name": "xenium_cgn_1"
  },
  "language_info": {
   "codemirror_mode": {
    "name": "ipython",
    "version": 3
   },
   "file_extension": ".py",
   "mimetype": "text/x-python",
   "name": "python",
   "nbconvert_exporter": "python",
   "pygments_lexer": "ipython3",
   "version": "3.11.6"
  }
 },
 "nbformat": 4,
 "nbformat_minor": 5
}
