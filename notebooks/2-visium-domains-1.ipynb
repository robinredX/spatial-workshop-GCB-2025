{
 "cells": [
  {
   "cell_type": "code",
   "execution_count": null,
   "id": "4bd57928-4055-49b8-93d0-68d012131afa",
   "metadata": {},
   "outputs": [],
   "source": [
    "import os\n",
    "import numpy as np\n",
    "import pandas as pd\n",
    "import scanpy as sc\n",
    "import matplotlib.pyplot as plt\n",
    "import seaborn as sns\n",
    "# Set figure parameters\n",
    "sc.set_figure_params(dpi=100, vector_friendly=True) \n",
    "# vector_friendly=True rasterizes large objects (such as dots in a scatterplot as pixels).\n",
    "# More at https://scanpy.readthedocs.io/en/stable/generated/scanpy.set_figure_params.html"
   ]
  },
  {
   "cell_type": "code",
   "execution_count": null,
   "id": "035ac0f0-d9a5-4d7d-8d12-836b268967e7",
   "metadata": {},
   "outputs": [],
   "source": [
    "## read data\n",
    "data = sc.read(\"/home/shared/spatial-workshop-GCB-2025/visium_v1_ustekinumab.h5ad\")"
   ]
  },
  {
   "cell_type": "markdown",
   "id": "b4d06579-8656-40bd-ad7d-09d5eb378ac4",
   "metadata": {},
   "source": [
    "ℹ️ AnnData stores data as a hierarchical array store HDF5. A brief introduction on what is usually stored and how it can be accessed is here: [AnnData](https://jupyterhub.ims.bio/user/robin/lab/tree/epyc/robin/GCB2025/spatial-workshop-GCB-2025/slides/anndata-brief.pdf).\n"
   ]
  },
  {
   "cell_type": "code",
   "execution_count": null,
   "id": "43d2239f-8b65-4292-ba40-c1829481ff15",
   "metadata": {},
   "outputs": [],
   "source": [
    "## Normalize to sum to 10000 to make total RNA content comparable and then log-normalize data\n"
   ]
  },
  {
   "cell_type": "code",
   "execution_count": null,
   "id": "145311d3-1665-4129-8e91-9c751560fffc",
   "metadata": {},
   "outputs": [],
   "source": [
    "## Select highly variable genes\n"
   ]
  },
  {
   "cell_type": "code",
   "execution_count": null,
   "id": "6408e10b-a0dd-45f6-8b7f-625b14b6b176",
   "metadata": {},
   "outputs": [],
   "source": [
    "## Compute principal components\n"
   ]
  },
  {
   "cell_type": "code",
   "execution_count": null,
   "id": "5c7d5515-aa37-41cd-8959-bf2d624af2c0",
   "metadata": {},
   "outputs": [],
   "source": [
    "## Produce batch effect corrected PC embeddings\n"
   ]
  },
  {
   "cell_type": "code",
   "execution_count": null,
   "id": "9fd3c337-a8bc-4fae-a1b2-197cc80e287e",
   "metadata": {},
   "outputs": [],
   "source": [
    "## Compute UMAP\n"
   ]
  },
  {
   "cell_type": "code",
   "execution_count": null,
   "id": "b8c6d5bb-b936-412f-87e2-09af7078499a",
   "metadata": {},
   "outputs": [],
   "source": [
    "## Plot UMAP and color by batch\n",
    "\n"
   ]
  },
  {
   "cell_type": "markdown",
   "id": "9ded7835-f805-45e4-a176-7af36f1021db",
   "metadata": {},
   "source": [
    "For evaluation of batch effect removal, several metrics are available in [scib](https://scib.readthedocs.io/en/latest/). Often requires true label. Alternatively, cluster labels can be used as true label and batch key can be used as batch label. In this case, assessment will be about whether cluster labels are mixture of batches and not purely of some batches.\n"
   ]
  },
  {
   "cell_type": "markdown",
   "id": "daaf01fc-7103-459a-bb0c-27f670d5dca6",
   "metadata": {},
   "source": [
    "<u>Optional</u>: Perform clustering with sc.tl.leiden() and evaluate batch correction."
   ]
  },
  {
   "cell_type": "code",
   "execution_count": null,
   "id": "b54d2bd7-faf4-4ed2-b396-eee52ea31f20",
   "metadata": {},
   "outputs": [],
   "source": [
    "## Perform Leien clustering with resolution of 1\n"
   ]
  },
  {
   "cell_type": "code",
   "execution_count": null,
   "id": "b248aa9f-d4d5-4999-b5db-08d04350fa23",
   "metadata": {},
   "outputs": [],
   "source": []
  },
  {
   "cell_type": "markdown",
   "id": "6edd9b79-735b-44f8-befa-0f396c3fb2a0",
   "metadata": {},
   "source": [
    "Other general clustering approaches (KMeans, agglomerative clustering and DBSCAN etc.) are availble from [scikit-learn](https://scikit-learn.org/stable/modules/clustering.html)."
   ]
  },
  {
   "cell_type": "code",
   "execution_count": null,
   "id": "327f68db-8d31-402c-bbe0-5eecd92e8ebf",
   "metadata": {},
   "outputs": [],
   "source": [
    "## show clusters on UMAP\n",
    "\n"
   ]
  },
  {
   "cell_type": "markdown",
   "id": "9f7036e5-57ae-4c51-a6c1-39e102fde8b7",
   "metadata": {},
   "source": [
    "<u>Questions</u>\n",
    "1. Find optimal resolution for clustering\n",
    "2. Use spatial information for clustering"
   ]
  },
  {
   "cell_type": "markdown",
   "id": "7ab2345f-3611-42cb-8368-968260813d50",
   "metadata": {},
   "source": [
    "## 1. Find optimal resolution for clustering"
   ]
  },
  {
   "cell_type": "markdown",
   "id": "c4f11c0c-2b8f-4186-8426-639f2378abba",
   "metadata": {},
   "source": [
    "Annoatations from the manuscript are available at /home/shared/spatial-workshop-GCB-2025/visium_v1_compartments_gex.csv"
   ]
  },
  {
   "cell_type": "markdown",
   "id": "6e641b3e-8e3e-4b37-81bf-01ee2761d3c3",
   "metadata": {},
   "source": [
    "<u>Optional<u/>\n",
    "\n",
    "1. A dictionary of kindey cell type marker genes is available here: /home/shared/spatial-workshop-GCB-2025/kidney_markers.json.  \n",
    "Based on these lists, annotate above clusters. Is it possible to annotate all cleanly?"
   ]
  },
  {
   "cell_type": "code",
   "execution_count": null,
   "id": "af8162e9-7788-4b45-80a1-dda7b6a816b7",
   "metadata": {},
   "outputs": [],
   "source": [
    "## save processed anndata object with clustering info\n",
    "\n",
    "data.write(\"visium_v1_processed.h5ad\")"
   ]
  },
  {
   "cell_type": "markdown",
   "id": "28388097-b1de-44a0-b570-7518489abed2",
   "metadata": {},
   "source": [
    "## 2. Using spatial Information: \n",
    "\n",
    "**2.1 SpatialLeiden**\n",
    " \n",
    "An alternative of Leiden clustering is SpatialLeiden: [Paper](https://genomebiology.biomedcentral.com/articles/10.1186/s13059-025-03489-7), [Code](https://github.com/HiDiHlabs/SpatialLeiden), [Usage](https://spatialleiden.readthedocs.io/stable/usage.html). It integrates several spatial information at various steps of leiden clustering. Does using it improve clustering and homogeneity of markers?"
   ]
  },
  {
   "cell_type": "code",
   "execution_count": null,
   "id": "e1d594c6-f37b-4eb9-9324-2ed73ccf8330",
   "metadata": {},
   "outputs": [],
   "source": []
  },
  {
   "cell_type": "markdown",
   "id": "5d184e84-576c-42fc-b6c0-c61ec2ec37ff",
   "metadata": {},
   "source": [
    "ℹ️ SpatialLeiden has two important hyperparameters:  \n",
    "1. resolution: resolution for latent space (of gene expression) and spatial layer (coordinates)\n",
    "2. layer_ratio: ratio of weighting if the latent space and spatial layers.  A higher ratio will increase relevance of the spatial neighbors and lead to more spatially homogeneous clusters\n",
    "\n",
    "Also, since spot-coordinates are used for clustering and each slide has its own frame of reference, the current implementation is not useful for multi-slide dataset."
   ]
  },
  {
   "cell_type": "code",
   "execution_count": null,
   "id": "831d9a60-af98-45be-8e62-40748d63c0f3",
   "metadata": {},
   "outputs": [],
   "source": [
    "sub = data[data.obs[\"Slide_ID\"]==\"V4_B\"]\n"
   ]
  },
  {
   "cell_type": "code",
   "execution_count": null,
   "id": "29df781d-9e37-40d9-855a-49a7b460c13f",
   "metadata": {},
   "outputs": [],
   "source": []
  },
  {
   "cell_type": "markdown",
   "id": "595ff2d0-bb35-4fc1-b662-f7d560e6743d",
   "metadata": {},
   "source": [
    "<u>Tasks</u>\n",
    "\n",
    "1. SpatialLeiden also provides a nice way to select \"best\" resolution and layer_ratio. However, this requires information on the number of clusters. Run SpatialLeiden with n_clusters being the number of cluster obtained with Leiden. Check [Usage]() for script.\n",
    "\n",
    "2. How does SpatialLeiden clustering compare with Leiden? For this, redoing Leiden clustering for this subset of data (object \"sub\") is necessary. Does it lead to homogeneous distribution of marker expression? How is the spatial distribution different?"
   ]
  },
  {
   "cell_type": "markdown",
   "id": "9a670c7d-17b6-4711-92c0-736610377cc7",
   "metadata": {},
   "source": [
    "**2.2 Spatial domain identification developed specifically for spatial transcriptomics**\n",
    "\n",
    "Several more domain-specific spatial domain identification algorithms exist that work with Visium data. Carry on to notebok number 3 (3-visium-domains-2.ipynb or 3-visium-domains-2_complete.ipynb)"
   ]
  },
  {
   "cell_type": "code",
   "execution_count": null,
   "id": "156fee5d-e810-4779-90f7-23f83dd2b219",
   "metadata": {},
   "outputs": [],
   "source": []
  }
 ],
 "metadata": {
  "kernelspec": {
   "display_name": "xenium_cgn_1",
   "language": "python",
   "name": "xenium_cgn_1"
  },
  "language_info": {
   "codemirror_mode": {
    "name": "ipython",
    "version": 3
   },
   "file_extension": ".py",
   "mimetype": "text/x-python",
   "name": "python",
   "nbconvert_exporter": "python",
   "pygments_lexer": "ipython3",
   "version": "3.11.6"
  }
 },
 "nbformat": 4,
 "nbformat_minor": 5
}
