{
 "cells": [
  {
   "cell_type": "code",
   "execution_count": null,
   "id": "834af9ac-4ced-4d6e-9d88-00db1125560b",
   "metadata": {},
   "outputs": [],
   "source": [
    "import scanpy as sc\n",
    "import pandas as pd\n",
    "import numpy as np\n",
    "import matplotlib.pyplot as plt\n",
    "import seaborn as sns\n",
    "import squidpy as sq\n",
    "from pathlib import Path\n",
    "import warnings\n",
    "warnings.filterwarnings('ignore')\n",
    "\n",
    "sc.settings.verbosity = 3\n",
    "sc.settings.set_figure_params(dpi=80, facecolor='white')"
   ]
  },
  {
   "cell_type": "markdown",
   "id": "e78510fd-0274-44f7-b93b-17d1da9ae031",
   "metadata": {},
   "source": [
    "## Xenium kidney data"
   ]
  },
  {
   "cell_type": "code",
   "execution_count": null,
   "id": "56cd10fe-fcb0-46c0-b7b2-76b82f8625ef",
   "metadata": {},
   "outputs": [],
   "source": [
    "adata = sc.read_h5ad(\"/shared/data/xenium_kidney.h5ad\")\n",
    "print(f\"Data shape: {adata.shape}\")\n",
    "print(f\"Available obsm keys: {list(adata.obsm.keys())}\")\n",
    "print(f\"Available var columns: {list(adata.var.columns)}\")\n",
    "print(f\"Available obs columns: {list(adata.obs.columns)}\")"
   ]
  },
  {
   "cell_type": "code",
   "execution_count": null,
   "id": "c3c7f941-fa29-46ea-bace-1b245ce88eee",
   "metadata": {},
   "outputs": [],
   "source": [
    "print(\"Sample composition:\")\n",
    "print(adata.obs['sample'].value_counts())\n",
    "print(\"\\nUnique samples:\", adata.obs['sample'].unique())\n",
    "\n",
    "if 'cell_type' in adata.obs.columns:\n",
    "    print(f\"\\nCell types available: {adata.obs['cell_type'].nunique()}\")\n",
    "    print(adata.obs['cell_type'].value_counts().head(10))"
   ]
  },
  {
   "cell_type": "code",
   "execution_count": null,
   "id": "3225ff83-0140-407b-9204-3300809f8fe4",
   "metadata": {},
   "outputs": [],
   "source": [
    "spatial_keys = [key for key in adata.obsm.keys() if 'spatial' in key.lower() or 'coord' in key.lower()]\n",
    "print(f\"Spatial coordinate keys: {spatial_keys}\")\n",
    "\n",
    "if 'spatial' in adata.obsm.keys():\n",
    "    coords = adata.obsm['spatial']\n",
    "elif len(spatial_keys) > 0:\n",
    "    coords = adata.obsm[spatial_keys[0]]\n",
    "    adata.obsm['spatial'] = coords\n",
    "else:\n",
    "    print(\"Warning: No spatial coordinates found\")\n",
    "\n",
    "print(f\"Coordinate range - X: [{coords[:,0].min():.2f}, {coords[:,0].max():.2f}]\")\n",
    "print(f\"Coordinate range - Y: [{coords[:,1].min():.2f}, {coords[:,1].max():.2f}]\")"
   ]
  },
  {
   "cell_type": "markdown",
   "id": "ee7dfb59-0983-4c60-b808-b22bf8ae628a",
   "metadata": {},
   "source": [
    "## Basic spatial visualization"
   ]
  },
  {
   "cell_type": "code",
   "execution_count": null,
   "id": "bb062cff-fabe-457e-b45e-38c4e34d0dcf",
   "metadata": {},
   "outputs": [],
   "source": [
    "fig, axes = plt.subplots(1, 2, figsize=(15, 6))\n",
    "\n",
    "for i, sample in enumerate(adata.obs['sample'].unique()):\n",
    "    sample_data = adata[adata.obs['sample'] == sample]\n",
    "    coords = sample_data.obsm['spatial']\n",
    "    \n",
    "    axes[i].scatter(coords[:, 0], coords[:, 1], s=0.5, alpha=0.6)\n",
    "    axes[i].set_title(f'Sample: {sample}')\n",
    "    axes[i].set_xlabel('X coordinate')\n",
    "    axes[i].set_ylabel('Y coordinate')\n",
    "    axes[i].axis('equal')\n",
    "\n",
    "plt.tight_layout()\n",
    "plt.show()"
   ]
  },
  {
   "cell_type": "markdown",
   "id": "57c5ce97-5033-41c6-8569-2e042e8b2c91",
   "metadata": {},
   "source": [
    "## QC"
   ]
  },
  {
   "cell_type": "code",
   "execution_count": null,
   "id": "65b9145d-d03b-43af-b989-a7298c1414da",
   "metadata": {},
   "outputs": [],
   "source": [
    "print(f\"Number of genes: {adata.n_vars}\")\n",
    "print(f\"Number of cells: {adata.n_obs}\")\n",
    "\n",
    "sc.pl.highest_expr_genes(adata, n_top=20, show=True)\n",
    "\n",
    "adata.var['mt'] = adata.var_names.str.startswith('MT-')\n",
    "adata.var['ribo'] = adata.var_names.str.startswith(('RPS', 'RPL'))\n",
    "adata.var['hb'] = adata.var_names.str.contains('^HB[^(P)]')"
   ]
  },
  {
   "cell_type": "code",
   "execution_count": null,
   "id": "5f9b56fe-f169-4c0f-9d92-12969ab60f8f",
   "metadata": {},
   "outputs": [],
   "source": [
    "fig, axes = plt.subplots(2, 3, figsize=(18, 12))\n",
    "\n",
    "sc.pl.violin(adata, ['n_genes_by_counts'], groupby='sample', ax=axes[0,0], show=False)\n",
    "axes[0,0].set_title('Genes per cell')\n",
    "\n",
    "sc.pl.violin(adata, ['total_counts'], groupby='sample', ax=axes[0,1], show=False)\n",
    "axes[0,1].set_title('Total counts per cell')\n",
    "\n",
    "if 'pct_counts_mt' in adata.obs.columns:\n",
    "    sc.pl.violin(adata, ['pct_counts_mt'], groupby='sample', ax=axes[0,2], show=False)\n",
    "    axes[0,2].set_title('Mitochondrial gene %')\n",
    "\n",
    "for i, sample in enumerate(adata.obs['sample'].unique()):\n",
    "    sample_mask = adata.obs['sample'] == sample\n",
    "    axes[1,i].scatter(adata.obs.loc[sample_mask, 'total_counts'], \n",
    "                     adata.obs.loc[sample_mask, 'n_genes_by_counts'], \n",
    "                     s=0.5, alpha=0.6)\n",
    "    axes[1,i].set_xlabel('Total counts')\n",
    "    axes[1,i].set_ylabel('Number of genes')\n",
    "    axes[1,i].set_title(f'{sample}: Counts vs Genes')\n",
    "\n",
    "axes[1,2].axis('off')\n",
    "plt.tight_layout()\n",
    "plt.show()"
   ]
  },
  {
   "cell_type": "code",
   "execution_count": null,
   "id": "43443ae5-9b31-457d-a941-ecd783bcd9c9",
   "metadata": {},
   "outputs": [],
   "source": [
    "## Filter genes\n",
    "\n",
    "print(f\"Genes before filtering: {adata.n_vars}\")\n",
    "\n",
    "sc.pp.filter_genes(adata, min_cells=10)\n",
    "print(f\"Genes after min_cells filter: {adata.n_vars}\")\n",
    "\n",
    "# adata.var['highly_variable'] = False\n",
    "# sc.pp.highly_variable_genes(adata, n_top_genes=3000, flavor='seurat_v3')\n",
    "adata.var['highly_variable'] = True\n",
    "\n",
    "print(f\"Highly variable genes: {adata.var['highly_variable'].sum()}\")"
   ]
  },
  {
   "cell_type": "code",
   "execution_count": null,
   "id": "24604bc7-fdcc-4a2f-bbdf-224ad9cf7f52",
   "metadata": {},
   "outputs": [],
   "source": [
    "## Filter cells\n",
    "\n",
    "print(f\"Cells before filtering: {adata.n_obs}\")\n",
    "\n",
    "min_genes = 200\n",
    "max_genes = adata.obs['n_genes_by_counts'].quantile(0.98)\n",
    "min_counts = 500\n",
    "max_counts = adata.obs['total_counts'].quantile(0.98)\n",
    "\n",
    "sc.pp.filter_cells(adata, min_genes=min_genes)\n",
    "print(f\"Cells after min_genes filter: {adata.n_obs}\")\n",
    "\n",
    "cell_filter = (\n",
    "    (adata.obs['n_genes_by_counts'] <= max_genes) & \n",
    "    (adata.obs['total_counts'] >= min_counts) &\n",
    "    (adata.obs['total_counts'] <= max_counts)\n",
    ")\n",
    "\n",
    "if 'pct_counts_mt' in adata.obs.columns:\n",
    "    cell_filter &= (adata.obs['pct_counts_mt'] <= 20)\n",
    "\n",
    "adata = adata[cell_filter, :].copy()\n",
    "print(f\"Cells after quality filters: {adata.n_obs}\")"
   ]
  },
  {
   "cell_type": "code",
   "execution_count": null,
   "id": "53a84275-46d2-454d-85a2-cdaa28c05d68",
   "metadata": {},
   "outputs": [],
   "source": [
    "adata.raw = adata\n",
    "\n",
    "sc.pp.normalize_total(adata, target_sum=1e4)\n",
    "sc.pp.log1p(adata)\n",
    "\n",
    "adata_hvg = adata[:, adata.var.highly_variable].copy()\n",
    "sc.pp.scale(adata_hvg, max_value=10)\n",
    "\n",
    "print(\"Normalization and scaling completed\")\n",
    "print(f\"Data shape after HVG selection: {adata_hvg.shape}\")"
   ]
  },
  {
   "cell_type": "code",
   "execution_count": null,
   "id": "af942ec7-897c-4cca-9854-755825098a48",
   "metadata": {},
   "outputs": [],
   "source": [
    "fig, axes = plt.subplots(2, 2, figsize=(16, 12))\n",
    "\n",
    "for i, sample in enumerate(adata.obs['sample'].unique()):\n",
    "    sample_data = adata[adata.obs['sample'] == sample]\n",
    "    coords = sample_data.obsm['spatial']\n",
    "    \n",
    "    axes[0, i].scatter(coords[:, 0], coords[:, 1], \n",
    "                      c=sample_data.obs['total_counts'], \n",
    "                      s=0.8, cmap='viridis', alpha=0.7)\n",
    "    axes[0, i].set_title(f'{sample}: Total counts')\n",
    "    axes[0, i].axis('equal')\n",
    "    \n",
    "    axes[1, i].scatter(coords[:, 0], coords[:, 1], \n",
    "                      c=sample_data.obs['n_genes_by_counts'], \n",
    "                      s=0.8, cmap='plasma', alpha=0.7)\n",
    "    axes[1, i].set_title(f'{sample}: Gene counts')\n",
    "    axes[1, i].axis('equal')\n",
    "\n",
    "plt.tight_layout()\n",
    "plt.show()"
   ]
  },
  {
   "cell_type": "code",
   "execution_count": null,
   "id": "13d14ff6-41be-4f9f-bb5e-ef3ed34f530e",
   "metadata": {},
   "outputs": [],
   "source": [
    "## save data\n",
    "\n",
    "adata.write('xenium_kidney_preprocessed.h5ad')\n",
    "\n",
    "print(\"Preprocessed data saved\")\n",
    "print(f\"Full data: {adata.shape}\")\n",
    "print(f\"Samples: {adata.obs['sample'].unique()}\")"
   ]
  },
  {
   "cell_type": "code",
   "execution_count": null,
   "id": "3b04aeba-3671-417d-af70-bff1341ad784",
   "metadata": {},
   "outputs": [],
   "source": []
  }
 ],
 "metadata": {
  "kernelspec": {
   "display_name": "xenium_cgn_1",
   "language": "python",
   "name": "xenium_cgn_1"
  },
  "language_info": {
   "codemirror_mode": {
    "name": "ipython",
    "version": 3
   },
   "file_extension": ".py",
   "mimetype": "text/x-python",
   "name": "python",
   "nbconvert_exporter": "python",
   "pygments_lexer": "ipython3",
   "version": "3.11.6"
  }
 },
 "nbformat": 4,
 "nbformat_minor": 5
}
